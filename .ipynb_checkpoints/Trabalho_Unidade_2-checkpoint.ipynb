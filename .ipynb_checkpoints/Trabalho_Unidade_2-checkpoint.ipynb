{
 "cells": [
  {
   "cell_type": "markdown",
   "metadata": {},
   "source": [
    "# Análise dos pós-graduandos egressos da UFRN"
   ]
  },
  {
   "cell_type": "markdown",
   "metadata": {},
   "source": [
    "( Informações gerais da equipe *blablabla* ) **EDITAR**"
   ]
  },
  {
   "cell_type": "markdown",
   "metadata": {},
   "source": [
    "A [UFRN](http://www.ufrn.br/) (Universidade Federal do Rio Grande do Norte) possui um órgão responsável pelo gerenciamento dos programas de pós-graduação, que é a [Pró-reitoria de Pós-graduação](http://www.ppg.ufrn.br/index.php) (PPG) cujo \n",
    "> \"desempenha um papel fundamental na expansão e consolidação do Sistema de Pós-graduação no âmbito da Universidade, na pespectiva de contribuir com as demandas da Sociedade Norte-rio-grandense e brasileira, como um importante instrumento de qualificação acadêmica e técnica.\" [[1]](http://www.ppg.ufrn.br/pagina.php?a=apresentacao#)\n",
    "\n",
    "O ensino de pós-graduação da UFRN abrange tanto os programas *Stricto sensu* (Mestrado e Doutorado) quanto *Lato sensu* (Especialização e Residências em Saúde e outras áreas do conhecimento).\n",
    "\n",
    "(ainda to melhorando o texto de intro)"
   ]
  },
  {
   "cell_type": "markdown",
   "metadata": {},
   "source": [
    "**Perguntas que queremos responder (por ordem de prioridade)**\n",
    "\n",
    "1. Quantos alunos de pós-graduação vieram de uma graduação anterior na UFRN?\n",
    "2. Agrupando os programas de pós-graduação em áreas do saber (decidir como fazer isso, caso não haja essa informação no database), quais cursos mais contribuem para o reingresso de seus alunos na pós?\n",
    "3. É possível traçar um perfil de um graduando que reingressará numa pós? Se sim, qual é o perfil? (essa pergunta talvez não seja tão interessante, buscar respondê-la caso haja tempo)"
   ]
  },
  {
   "cell_type": "markdown",
   "metadata": {},
   "source": [
    "# Importando as bibliotecas"
   ]
  },
  {
   "cell_type": "code",
   "execution_count": 3,
   "metadata": {},
   "outputs": [],
   "source": [
    "# importando as bibliotecas necessárias\n",
    "import pandas as pd\n",
    "import matplotlib.pyplot as plt\n",
    "import seaborn as sns\n",
    "import numpy as np"
   ]
  },
  {
   "cell_type": "markdown",
   "metadata": {},
   "source": [
    "# Analisando o grupo http://dados.ufrn.br/group/ensino"
   ]
  },
  {
   "cell_type": "code",
   "execution_count": 56,
   "metadata": {},
   "outputs": [],
   "source": [
    "# dados abertos ufrn\n",
    "# http://dados.ufrn.br/\n",
    "\n",
    "# urls dos dados\n",
    "alunos_2016_url = 'http://dados.ufrn.br/dataset/554c2d41-cfce-4278-93c6-eb9aa49c5d16/resource/7d2fa5b3-743f-465f-8450-91719b34a002/download/discentes-2016'\n",
    "alunos_2015_url = 'http://dados.ufrn.br/dataset/554c2d41-cfce-4278-93c6-eb9aa49c5d16/resource/e2b5b843-4f58-497e-8979-44daf8df8f94/download/discentes-2015'\n",
    "alunos_2014_url = 'http://dados.ufrn.br/dataset/554c2d41-cfce-4278-93c6-eb9aa49c5d16/resource/6c23a430-9a7c-4d0f-9602-1d5d97d40e6a/download/discentes-2014'\n",
    "alunos_2013_url = 'http://dados.ufrn.br/dataset/554c2d41-cfce-4278-93c6-eb9aa49c5d16/resource/dba208c2-822f-4e26-adc3-b61d4cb110b6/download/discentes-2013'\n",
    "alunos_2012_url = 'http://dados.ufrn.br/dataset/554c2d41-cfce-4278-93c6-eb9aa49c5d16/resource/fc283aa9-61a7-4cf0-91fb-c403c0817b48/download/discentes-2012'\n",
    "alunos_2011_url = 'http://dados.ufrn.br/dataset/554c2d41-cfce-4278-93c6-eb9aa49c5d16/resource/2bb3dec9-7f23-434c-a179-21515f91abc8/download/discentes-2011'\n",
    "alunos_2010_url = 'http://dados.ufrn.br/dataset/554c2d41-cfce-4278-93c6-eb9aa49c5d16/resource/5fc61f78-19b4-4020-9f3c-c298cb8a63aa/download/discentes-2010'\n",
    "alunos_2009_url = 'http://dados.ufrn.br/dataset/554c2d41-cfce-4278-93c6-eb9aa49c5d16/resource/861b96a8-5304-4e6a-a8c4-068533ec7cb9/download/discentes-2009'\n",
    "\n",
    "alunos_url = {alunos_2016_url, alunos_2015_url, alunos_2014_url, \n",
    "              alunos_2013_url, alunos_2012_url, alunos_2011_url, \n",
    "              alunos_2010_url, alunos_2009_url}\n",
    "\n",
    "bolsas_url = 'http://dados.ufrn.br/dataset/81608a4d-c76b-4758-a8d8-54be32209833/resource/d21c94fe-22ba-4cf3-89db-54d8e739c567/download/bolsistas-de-iniciacao-cientifica.csv'\n",
    "\n",
    "# alunos (2009 - 2016)\n",
    "alunos = []\n",
    "   \n",
    "for i in alunos_url:\n",
    "    alunos.append(pd.read_csv(i, sep=';'))\n",
    "\n",
    "# bolsas de iniciação científica\n",
    "bolsas = pd.read_csv(bolsas_url, sep=';')\n",
    "#criar um dataframe com todas as listas\n",
    "alunos_all = pd.concat(alunos)"
   ]
  },
  {
   "cell_type": "code",
   "execution_count": 50,
   "metadata": {},
   "outputs": [],
   "source": [
    "#filtra os alunos de doutorado\n",
    "dout_all = alunos_all.loc[ alunos_all['nivel_ensino'] == 'DOUTORADO']"
   ]
  },
  {
   "cell_type": "code",
   "execution_count": 51,
   "metadata": {},
   "outputs": [],
   "source": [
    "#filtra os alunos de graduação\n",
    "grad = alunos_all.loc[ alunos_all['nivel_ensino'] == 'GRADUAÇÃO']"
   ]
  },
  {
   "cell_type": "code",
   "execution_count": 52,
   "metadata": {},
   "outputs": [],
   "source": [
    "#verifica a interseção entre nomes de alunos nas duas tabelas acima\n",
    "dout_ufrn = set.intersection(set(dout_all['nome_discente']), set(grad['nome_discente']))"
   ]
  },
  {
   "cell_type": "code",
   "execution_count": 53,
   "metadata": {},
   "outputs": [],
   "source": [
    "#armazena a quantidade de alunos no doutorado e quais deles vieram de alguma graduação\n",
    "values = [dout_all.shape[0],len(dout_ufrn)]"
   ]
  },
  {
   "cell_type": "code",
   "execution_count": 57,
   "metadata": {},
   "outputs": [
    {
     "data": {
      "image/png": "[encoded data removed]",
      "text/plain": [
       "<matplotlib.figure.Figure at 0x7fe5ac1b4e48>"
      ]
     },
     "metadata": {},
     "output_type": "display_data"
    }
   ],
   "source": [
    "#cria um gráfico para mostrar a proporção de alunos que fizeram a graduação e que fizeram/fazem doutorado\n",
    "fig1, ax1 = plt.subplots()\n",
    "labels = 'Alunos de Doutorado', 'Alunos de Doutorado que vieram de gradução na UFRN'\n",
    "explode = (0, 0.1)\n",
    "ax1.pie(values, explode=explode, labels=labels, autopct='%1.1f%%',\n",
    "        shadow=True, startangle=90)\n",
    "ax1.axis('equal')\n",
    "\n",
    "plt.show()"
   ]
  },
  {
   "cell_type": "code",
   "execution_count": 75,
   "metadata": {},
   "outputs": [
    {
     "data": {
      "text/plain": [
       "<matplotlib.axes._subplots.AxesSubplot at 0x7fe5b31a46d8>"
      ]
     },
     "execution_count": 75,
     "metadata": {},
     "output_type": "execute_result"
    },
    {
     "data": {
      "image/png": "[encoded data removed]",
      "text/plain": [
       "<matplotlib.figure.Figure at 0x7fe5b2fc4ac8>"
      ]
     },
     "metadata": {},
     "output_type": "display_data"
    }
   ],
   "source": [
    "#pega a interseção entre os graduandos e os doutorandos porém agora em uma tabela pandas,\n",
    "#pois assim podemos pegar os cursos.\n",
    "#mostra os cursos que mais tem alunos na pós graduação\n",
    "dout_cursos = pd.merge(dout_all,grad, how='inner', on=['nome_discente'])\n",
    "dout_cursos['nome_curso_y'].value_counts()[0:6].plot(kind='bar')"
   ]
  },
  {
   "cell_type": "code",
   "execution_count": 81,
   "metadata": {},
   "outputs": [],
   "source": [
    "#faz uma interseção pegando os alunos que fazem doutorado, vindos da UFRN, com aqueles que tem bolsas de iniciação cientifica\n",
    "bolsas.rename(columns={'discente': 'nome_discente'}, inplace=True)\n",
    "perfil = pd.merge(dout_cursos,bolsas, how='inner', on=['nome_discente'])\n",
    "dout_bolsa = perfil['nome_discente'].unique().shape[0]\n",
    "dout_bolsa\n",
    "perfil_dout = [len(dout_ufrn),dout_bolsa]"
   ]
  },
  {
   "cell_type": "code",
   "execution_count": 84,
   "metadata": {},
   "outputs": [
    {
     "data": {
      "image/png": "[encoded data removed]",
      "text/plain": [
       "<matplotlib.figure.Figure at 0x7fe5b34f1518>"
      ]
     },
     "metadata": {},
     "output_type": "display_data"
    }
   ],
   "source": [
    "#cria um gráfico para mostrar a proporção de alunos que tem/tinham bolsas de iniciação ciêntifica\n",
    "fig1, ax1 = plt.subplots()\n",
    "labels = 'Alunos de Doutorado vindos da UFRN', 'Alunos de Doutorado vindos da UFRN que possuem/possuiam bolsa de iniciação científica'\n",
    "explode = (0, 0.1)\n",
    "ax1.pie(perfil_dout, explode=explode, labels=labels, autopct='%1.1f%%',\n",
    "        shadow=True, startangle=90)\n",
    "ax1.axis('equal')\n",
    "\n",
    "plt.show()"
   ]
  },
  {
   "cell_type": "markdown",
   "metadata": {},
   "source": [
    "# Preparação e Limpeza dos Dados"
   ]
  },
  {
   "cell_type": "code",
   "execution_count": 210,
   "metadata": {
    "collapsed": true
   },
   "outputs": [],
   "source": [
    "# Adaptando o dataframe turma e disciplinas para o merge\n",
    "# Esse procedimento é necessário pois o dataframe turma está codificado com ids\n",
    "\n",
    "# A coluna id_componente precisa ser a mesma em ambos os dataframes\n",
    "turmas.rename(columns={'id_componente_curricular': 'id_componente'}, inplace=True)\n",
    "\n",
    "# id_componente em ambos os dataframes precisam ser do mesmo tipo\n",
    "turmas.id_componente = turmas.id_componente.astype(str)\n",
    "\n",
    "# Limpando o dataframe disciplinas com linhas desnecessárias\n",
    "disciplinas.dropna(inplace=True)\n",
    "disciplinas = disciplinas[~disciplinas.id_componente.duplicated()]"
   ]
  },
  {
   "cell_type": "code",
   "execution_count": 211,
   "metadata": {},
   "outputs": [
    {
     "data": {
      "text/html": [
       "<div>\n",
       "<style scoped>\n",
       "    .dataframe tbody tr th:only-of-type {\n",
       "        vertical-align: middle;\n",
       "    }\n",
       "\n",
       "    .dataframe tbody tr th {\n",
       "        vertical-align: top;\n",
       "    }\n",
       "\n",
       "    .dataframe thead th {\n",
       "        text-align: right;\n",
       "    }\n",
       "</style>\n",
       "<table border=\"1\" class=\"dataframe\">\n",
       "  <thead>\n",
       "    <tr style=\"text-align: right;\">\n",
       "      <th></th>\n",
       "      <th>id_turma</th>\n",
       "      <th>id_docente_interno</th>\n",
       "      <th>codigo</th>\n",
       "      <th>nivel_ensino</th>\n",
       "      <th>nome</th>\n",
       "      <th>unidade_responsavel</th>\n",
       "      <th>situacao_turma</th>\n",
       "      <th>capacidade_aluno</th>\n",
       "      <th>descricao_horario</th>\n",
       "    </tr>\n",
       "  </thead>\n",
       "  <tbody>\n",
       "    <tr>\n",
       "      <th>0</th>\n",
       "      <td>57602957</td>\n",
       "      <td>5753061.0</td>\n",
       "      <td>ART2077</td>\n",
       "      <td>LATO SENSU</td>\n",
       "      <td>PRODUÇÃO COREOGRÁFICA I</td>\n",
       "      <td>DEPARTAMENTO DE ARTES</td>\n",
       "      <td>CONSOLIDADA</td>\n",
       "      <td>40.0</td>\n",
       "      <td>7M2345  7T23456</td>\n",
       "    </tr>\n",
       "    <tr>\n",
       "      <th>2</th>\n",
       "      <td>57602962</td>\n",
       "      <td>5752714.0</td>\n",
       "      <td>ART2083</td>\n",
       "      <td>LATO SENSU</td>\n",
       "      <td>VIESES  ARTÍSTICOS  CONTEMPORÂNEOS  EM  DANÇA ...</td>\n",
       "      <td>DEPARTAMENTO DE ARTES</td>\n",
       "      <td>ABERTA</td>\n",
       "      <td>40.0</td>\n",
       "      <td>1M345 7M2345  17T23456</td>\n",
       "    </tr>\n",
       "    <tr>\n",
       "      <th>3</th>\n",
       "      <td>57602963</td>\n",
       "      <td>3031948.0</td>\n",
       "      <td>ART2086</td>\n",
       "      <td>LATO SENSU</td>\n",
       "      <td>PRÁTICAS DE IMPROVISAÇÃO PARA A CENA DAS DANÇA...</td>\n",
       "      <td>DEPARTAMENTO DE ARTES</td>\n",
       "      <td>CONSOLIDADA</td>\n",
       "      <td>40.0</td>\n",
       "      <td>7M2345  7T3456</td>\n",
       "    </tr>\n",
       "    <tr>\n",
       "      <th>4</th>\n",
       "      <td>57603192</td>\n",
       "      <td>5752917.0</td>\n",
       "      <td>MUT491</td>\n",
       "      <td>TÉCNICO</td>\n",
       "      <td>ARRANJOS II</td>\n",
       "      <td>ESCOLA DE MÚSICA</td>\n",
       "      <td>CONSOLIDADA</td>\n",
       "      <td>20.0</td>\n",
       "      <td>3T34</td>\n",
       "    </tr>\n",
       "    <tr>\n",
       "      <th>5</th>\n",
       "      <td>57603193</td>\n",
       "      <td>35466.0</td>\n",
       "      <td>MUT102</td>\n",
       "      <td>TÉCNICO</td>\n",
       "      <td>CANTO II</td>\n",
       "      <td>ESCOLA DE MÚSICA</td>\n",
       "      <td>CONSOLIDADA</td>\n",
       "      <td>3.0</td>\n",
       "      <td>3T456</td>\n",
       "    </tr>\n",
       "  </tbody>\n",
       "</table>\n",
       "</div>"
      ],
      "text/plain": [
       "   id_turma  id_docente_interno   codigo nivel_ensino  \\\n",
       "0  57602957           5753061.0  ART2077   LATO SENSU   \n",
       "2  57602962           5752714.0  ART2083   LATO SENSU   \n",
       "3  57602963           3031948.0  ART2086   LATO SENSU   \n",
       "4  57603192           5752917.0   MUT491      TÉCNICO   \n",
       "5  57603193             35466.0   MUT102      TÉCNICO   \n",
       "\n",
       "                                                nome    unidade_responsavel  \\\n",
       "0                            PRODUÇÃO COREOGRÁFICA I  DEPARTAMENTO DE ARTES   \n",
       "2  VIESES  ARTÍSTICOS  CONTEMPORÂNEOS  EM  DANÇA ...  DEPARTAMENTO DE ARTES   \n",
       "3  PRÁTICAS DE IMPROVISAÇÃO PARA A CENA DAS DANÇA...  DEPARTAMENTO DE ARTES   \n",
       "4                                        ARRANJOS II       ESCOLA DE MÚSICA   \n",
       "5                                           CANTO II       ESCOLA DE MÚSICA   \n",
       "\n",
       "  situacao_turma  capacidade_aluno       descricao_horario  \n",
       "0    CONSOLIDADA              40.0         7M2345  7T23456  \n",
       "2         ABERTA              40.0  1M345 7M2345  17T23456  \n",
       "3    CONSOLIDADA              40.0          7M2345  7T3456  \n",
       "4    CONSOLIDADA              20.0                    3T34  \n",
       "5    CONSOLIDADA               3.0                   3T456  "
      ]
     },
     "execution_count": 211,
     "metadata": {},
     "output_type": "execute_result"
    }
   ],
   "source": [
    "# Fazendo um merge entre o dataframe turmas e disciplinas utilizando como base a coluna id_componente\n",
    "# https://pandas.pydata.org/pandas-docs/stable/merging.html\n",
    "colunas = [\"id_turma\",\"id_docente_interno\",\"codigo\",\"nivel_ensino\",\"nome\",\"unidade_responsavel\",\n",
    "          \"situacao_turma\",\"capacidade_aluno\",\"descricao_horario\"]\n",
    "\n",
    "# merge os dois dataframes utilizando como base a coluna id_componenteb\n",
    "merge_turmas_disciplinas = pd.merge(turmas, disciplinas, on='id_componente')[colunas]\n",
    "\n",
    "merge_turmas_disciplinas.dropna(inplace=True)\n",
    "merge_turmas_disciplinas.head()"
   ]
  },
  {
   "cell_type": "markdown",
   "metadata": {},
   "source": [
    "## Filtrar as turmas do IMD"
   ]
  },
  {
   "cell_type": "code",
   "execution_count": 226,
   "metadata": {
    "collapsed": true
   },
   "outputs": [],
   "source": [
    "# filtrando as turmas com código IMD\n",
    "turmas_imd = merge_turmas_disciplinas[merge_turmas_disciplinas.codigo.str.contains(\"IMD\")]\n",
    "\n",
    "# utilizar apenas disciplinas com código \"CONSOLIDADA\"\n",
    "turmas_imd = turmas_imd[turmas_imd.situacao_turma == 'CONSOLIDADA']\n",
    "\n",
    "# Adaptar o nome da coluna id_docente_interno para id_servidor\n",
    "turmas_imd.rename(columns={'id_docente_interno': 'id_servidor'}, inplace=True)\n",
    "\n",
    "turmas_imd.capacidade_aluno = turmas_imd.capacidade_aluno.astype(np.int64)\n",
    "\n",
    "# Adaptar os tipos de dados em turmas_imd para o merge com o dataframe docentes\n",
    "turmas_imd.id_servidor = turmas_imd.id_servidor.astype(np.int64)"
   ]
  },
  {
   "cell_type": "code",
   "execution_count": 227,
   "metadata": {},
   "outputs": [
    {
     "data": {
      "text/html": [
       "<div>\n",
       "<style scoped>\n",
       "    .dataframe tbody tr th:only-of-type {\n",
       "        vertical-align: middle;\n",
       "    }\n",
       "\n",
       "    .dataframe tbody tr th {\n",
       "        vertical-align: top;\n",
       "    }\n",
       "\n",
       "    .dataframe thead th {\n",
       "        text-align: right;\n",
       "    }\n",
       "</style>\n",
       "<table border=\"1\" class=\"dataframe\">\n",
       "  <thead>\n",
       "    <tr style=\"text-align: right;\">\n",
       "      <th></th>\n",
       "      <th>id_turma</th>\n",
       "      <th>codigo</th>\n",
       "      <th>nivel_ensino</th>\n",
       "      <th>nome_y</th>\n",
       "      <th>codigo</th>\n",
       "      <th>nivel_ensino</th>\n",
       "      <th>nome_x</th>\n",
       "      <th>capacidade_aluno</th>\n",
       "      <th>descricao_horario</th>\n",
       "    </tr>\n",
       "  </thead>\n",
       "  <tbody>\n",
       "    <tr>\n",
       "      <th>0</th>\n",
       "      <td>57608376</td>\n",
       "      <td>IMD0017</td>\n",
       "      <td>GRADUAÇÃO</td>\n",
       "      <td>LUCELIO DANTAS DE AQUINO</td>\n",
       "      <td>IMD0017</td>\n",
       "      <td>GRADUAÇÃO</td>\n",
       "      <td>PRÁTICAS DE LEITURA E ESCRITA EM PORTUGUÊS I</td>\n",
       "      <td>60</td>\n",
       "      <td>5N34 (24/07/2017 - 16/12/2017)</td>\n",
       "    </tr>\n",
       "    <tr>\n",
       "      <th>1</th>\n",
       "      <td>57608398</td>\n",
       "      <td>IMD0027</td>\n",
       "      <td>GRADUAÇÃO</td>\n",
       "      <td>LUCELIO DANTAS DE AQUINO</td>\n",
       "      <td>IMD0027</td>\n",
       "      <td>GRADUAÇÃO</td>\n",
       "      <td>PRÁTICAS DE LEITURA E ESCRITA EM PORTUGUÊS II</td>\n",
       "      <td>60</td>\n",
       "      <td>3N34 (24/07/2017 - 16/12/2017)</td>\n",
       "    </tr>\n",
       "    <tr>\n",
       "      <th>2</th>\n",
       "      <td>57608691</td>\n",
       "      <td>IMD0335</td>\n",
       "      <td>GRADUAÇÃO</td>\n",
       "      <td>LUCELIO DANTAS DE AQUINO</td>\n",
       "      <td>IMD0335</td>\n",
       "      <td>GRADUAÇÃO</td>\n",
       "      <td>TÓPICOS ESPECIAIS I</td>\n",
       "      <td>40</td>\n",
       "      <td>35T56 (24/07/2017 - 16/12/2017)</td>\n",
       "    </tr>\n",
       "    <tr>\n",
       "      <th>3</th>\n",
       "      <td>57608377</td>\n",
       "      <td>IMD0019</td>\n",
       "      <td>GRADUAÇÃO</td>\n",
       "      <td>LOURENA KARIN DE MEDEIROS ROCHA</td>\n",
       "      <td>IMD0019</td>\n",
       "      <td>GRADUAÇÃO</td>\n",
       "      <td>RESOLUÇÃO DE PROBLEMAS MATEMÁTICOS PARA TI</td>\n",
       "      <td>65</td>\n",
       "      <td>246M3456 (24/07/2017 - 16/12/2017)</td>\n",
       "    </tr>\n",
       "    <tr>\n",
       "      <th>4</th>\n",
       "      <td>57608377</td>\n",
       "      <td>IMD0019</td>\n",
       "      <td>GRADUAÇÃO</td>\n",
       "      <td>CHARLES ANDRYE GALVAO MADEIRA</td>\n",
       "      <td>IMD0019</td>\n",
       "      <td>GRADUAÇÃO</td>\n",
       "      <td>RESOLUÇÃO DE PROBLEMAS MATEMÁTICOS PARA TI</td>\n",
       "      <td>65</td>\n",
       "      <td>246M3456 (24/07/2017 - 16/12/2017)</td>\n",
       "    </tr>\n",
       "  </tbody>\n",
       "</table>\n",
       "</div>"
      ],
      "text/plain": [
       "   id_turma   codigo nivel_ensino                           nome_y   codigo  \\\n",
       "0  57608376  IMD0017    GRADUAÇÃO         LUCELIO DANTAS DE AQUINO  IMD0017   \n",
       "1  57608398  IMD0027    GRADUAÇÃO         LUCELIO DANTAS DE AQUINO  IMD0027   \n",
       "2  57608691  IMD0335    GRADUAÇÃO         LUCELIO DANTAS DE AQUINO  IMD0335   \n",
       "3  57608377  IMD0019    GRADUAÇÃO  LOURENA KARIN DE MEDEIROS ROCHA  IMD0019   \n",
       "4  57608377  IMD0019    GRADUAÇÃO    CHARLES ANDRYE GALVAO MADEIRA  IMD0019   \n",
       "\n",
       "  nivel_ensino                                         nome_x  \\\n",
       "0    GRADUAÇÃO   PRÁTICAS DE LEITURA E ESCRITA EM PORTUGUÊS I   \n",
       "1    GRADUAÇÃO  PRÁTICAS DE LEITURA E ESCRITA EM PORTUGUÊS II   \n",
       "2    GRADUAÇÃO                            TÓPICOS ESPECIAIS I   \n",
       "3    GRADUAÇÃO     RESOLUÇÃO DE PROBLEMAS MATEMÁTICOS PARA TI   \n",
       "4    GRADUAÇÃO     RESOLUÇÃO DE PROBLEMAS MATEMÁTICOS PARA TI   \n",
       "\n",
       "   capacidade_aluno                   descricao_horario  \n",
       "0                60      5N34 (24/07/2017 - 16/12/2017)  \n",
       "1                60      3N34 (24/07/2017 - 16/12/2017)  \n",
       "2                40     35T56 (24/07/2017 - 16/12/2017)  \n",
       "3                65  246M3456 (24/07/2017 - 16/12/2017)  \n",
       "4                65  246M3456 (24/07/2017 - 16/12/2017)  "
      ]
     },
     "execution_count": 227,
     "metadata": {},
     "output_type": "execute_result"
    }
   ],
   "source": [
    "# merge os dataframes  turmas_imd e docentes utilizando como base a coluna id_servidor\n",
    "\n",
    "colunas = [\"id_turma\", \"codigo\", \"nivel_ensino\", \"nome_y\", \"codigo\", \"nivel_ensino\",\n",
    "          \"nome_x\",\"capacidade_aluno\", \"descricao_horario\"]\n",
    "turmas_imd_nomesprof = pd.merge(turmas_imd, docentes, on='id_servidor')[colunas]\n",
    "turmas_imd_nomesprof.head()"
   ]
  },
  {
   "cell_type": "markdown",
   "metadata": {},
   "source": [
    "## Notas IMD"
   ]
  },
  {
   "cell_type": "code",
   "execution_count": 238,
   "metadata": {},
   "outputs": [
    {
     "data": {
      "text/html": [
       "<div>\n",
       "<style scoped>\n",
       "    .dataframe tbody tr th:only-of-type {\n",
       "        vertical-align: middle;\n",
       "    }\n",
       "\n",
       "    .dataframe tbody tr th {\n",
       "        vertical-align: top;\n",
       "    }\n",
       "\n",
       "    .dataframe thead th {\n",
       "        text-align: right;\n",
       "    }\n",
       "</style>\n",
       "<table border=\"1\" class=\"dataframe\">\n",
       "  <thead>\n",
       "    <tr style=\"text-align: right;\">\n",
       "      <th></th>\n",
       "      <th>id_turma</th>\n",
       "      <th>discente</th>\n",
       "      <th>id_curso</th>\n",
       "      <th>unidade</th>\n",
       "      <th>nota</th>\n",
       "      <th>reposicao</th>\n",
       "      <th>faltas_unidade</th>\n",
       "      <th>media_final</th>\n",
       "      <th>numero_total_faltas</th>\n",
       "      <th>descricao</th>\n",
       "      <th>codigo</th>\n",
       "      <th>nivel_ensino</th>\n",
       "      <th>nome_y</th>\n",
       "      <th>codigo</th>\n",
       "      <th>nivel_ensino</th>\n",
       "      <th>nome_x</th>\n",
       "      <th>capacidade_aluno</th>\n",
       "      <th>descricao_horario</th>\n",
       "    </tr>\n",
       "  </thead>\n",
       "  <tbody>\n",
       "    <tr>\n",
       "      <th>0</th>\n",
       "      <td>57608383</td>\n",
       "      <td>8488e52d4ca947f5504905cb261636ca</td>\n",
       "      <td>92127264.0</td>\n",
       "      <td>3.0</td>\n",
       "      <td>0.0</td>\n",
       "      <td>f</td>\n",
       "      <td>0.0</td>\n",
       "      <td>1.3</td>\n",
       "      <td>0.0</td>\n",
       "      <td>CANCELADO</td>\n",
       "      <td>IMD0012.0</td>\n",
       "      <td>GRADUAÇÃO</td>\n",
       "      <td>ISAAC FRANCO FERNANDES</td>\n",
       "      <td>IMD0012.0</td>\n",
       "      <td>GRADUAÇÃO</td>\n",
       "      <td>INTRODUÇÃO ÀS TÉCNICAS DE PROGRAMAÇÃO</td>\n",
       "      <td>40</td>\n",
       "      <td>24T34 (24/07/2017 - 16/12/2017)</td>\n",
       "    </tr>\n",
       "    <tr>\n",
       "      <th>1</th>\n",
       "      <td>57608383</td>\n",
       "      <td>8488e52d4ca947f5504905cb261636ca</td>\n",
       "      <td>92127264.0</td>\n",
       "      <td>3.0</td>\n",
       "      <td>0.0</td>\n",
       "      <td>f</td>\n",
       "      <td>0.0</td>\n",
       "      <td>1.3</td>\n",
       "      <td>0.0</td>\n",
       "      <td>CANCELADO</td>\n",
       "      <td>IMD0012.0</td>\n",
       "      <td>GRADUAÇÃO</td>\n",
       "      <td>JULIO CESAR PAULINO DE MELO</td>\n",
       "      <td>IMD0012.0</td>\n",
       "      <td>GRADUAÇÃO</td>\n",
       "      <td>INTRODUÇÃO ÀS TÉCNICAS DE PROGRAMAÇÃO</td>\n",
       "      <td>40</td>\n",
       "      <td>24T34 (24/07/2017 - 16/12/2017)</td>\n",
       "    </tr>\n",
       "    <tr>\n",
       "      <th>2</th>\n",
       "      <td>57608383</td>\n",
       "      <td>8488e52d4ca947f5504905cb261636ca</td>\n",
       "      <td>92127264.0</td>\n",
       "      <td>2.0</td>\n",
       "      <td>0.0</td>\n",
       "      <td>f</td>\n",
       "      <td>0.0</td>\n",
       "      <td>1.3</td>\n",
       "      <td>0.0</td>\n",
       "      <td>CANCELADO</td>\n",
       "      <td>IMD0012.0</td>\n",
       "      <td>GRADUAÇÃO</td>\n",
       "      <td>ISAAC FRANCO FERNANDES</td>\n",
       "      <td>IMD0012.0</td>\n",
       "      <td>GRADUAÇÃO</td>\n",
       "      <td>INTRODUÇÃO ÀS TÉCNICAS DE PROGRAMAÇÃO</td>\n",
       "      <td>40</td>\n",
       "      <td>24T34 (24/07/2017 - 16/12/2017)</td>\n",
       "    </tr>\n",
       "    <tr>\n",
       "      <th>3</th>\n",
       "      <td>57608383</td>\n",
       "      <td>8488e52d4ca947f5504905cb261636ca</td>\n",
       "      <td>92127264.0</td>\n",
       "      <td>2.0</td>\n",
       "      <td>0.0</td>\n",
       "      <td>f</td>\n",
       "      <td>0.0</td>\n",
       "      <td>1.3</td>\n",
       "      <td>0.0</td>\n",
       "      <td>CANCELADO</td>\n",
       "      <td>IMD0012.0</td>\n",
       "      <td>GRADUAÇÃO</td>\n",
       "      <td>JULIO CESAR PAULINO DE MELO</td>\n",
       "      <td>IMD0012.0</td>\n",
       "      <td>GRADUAÇÃO</td>\n",
       "      <td>INTRODUÇÃO ÀS TÉCNICAS DE PROGRAMAÇÃO</td>\n",
       "      <td>40</td>\n",
       "      <td>24T34 (24/07/2017 - 16/12/2017)</td>\n",
       "    </tr>\n",
       "    <tr>\n",
       "      <th>4</th>\n",
       "      <td>57608383</td>\n",
       "      <td>8488e52d4ca947f5504905cb261636ca</td>\n",
       "      <td>92127264.0</td>\n",
       "      <td>1.0</td>\n",
       "      <td>3.9</td>\n",
       "      <td>f</td>\n",
       "      <td>0.0</td>\n",
       "      <td>1.3</td>\n",
       "      <td>0.0</td>\n",
       "      <td>CANCELADO</td>\n",
       "      <td>IMD0012.0</td>\n",
       "      <td>GRADUAÇÃO</td>\n",
       "      <td>ISAAC FRANCO FERNANDES</td>\n",
       "      <td>IMD0012.0</td>\n",
       "      <td>GRADUAÇÃO</td>\n",
       "      <td>INTRODUÇÃO ÀS TÉCNICAS DE PROGRAMAÇÃO</td>\n",
       "      <td>40</td>\n",
       "      <td>24T34 (24/07/2017 - 16/12/2017)</td>\n",
       "    </tr>\n",
       "  </tbody>\n",
       "</table>\n",
       "</div>"
      ],
      "text/plain": [
       "   id_turma                          discente    id_curso  unidade  nota  \\\n",
       "0  57608383  8488e52d4ca947f5504905cb261636ca  92127264.0      3.0   0.0   \n",
       "1  57608383  8488e52d4ca947f5504905cb261636ca  92127264.0      3.0   0.0   \n",
       "2  57608383  8488e52d4ca947f5504905cb261636ca  92127264.0      2.0   0.0   \n",
       "3  57608383  8488e52d4ca947f5504905cb261636ca  92127264.0      2.0   0.0   \n",
       "4  57608383  8488e52d4ca947f5504905cb261636ca  92127264.0      1.0   3.9   \n",
       "\n",
       "  reposicao  faltas_unidade  media_final  numero_total_faltas  descricao  \\\n",
       "0         f             0.0          1.3                  0.0  CANCELADO   \n",
       "1         f             0.0          1.3                  0.0  CANCELADO   \n",
       "2         f             0.0          1.3                  0.0  CANCELADO   \n",
       "3         f             0.0          1.3                  0.0  CANCELADO   \n",
       "4         f             0.0          1.3                  0.0  CANCELADO   \n",
       "\n",
       "      codigo nivel_ensino                       nome_y     codigo  \\\n",
       "0  IMD0012.0    GRADUAÇÃO       ISAAC FRANCO FERNANDES  IMD0012.0   \n",
       "1  IMD0012.0    GRADUAÇÃO  JULIO CESAR PAULINO DE MELO  IMD0012.0   \n",
       "2  IMD0012.0    GRADUAÇÃO       ISAAC FRANCO FERNANDES  IMD0012.0   \n",
       "3  IMD0012.0    GRADUAÇÃO  JULIO CESAR PAULINO DE MELO  IMD0012.0   \n",
       "4  IMD0012.0    GRADUAÇÃO       ISAAC FRANCO FERNANDES  IMD0012.0   \n",
       "\n",
       "  nivel_ensino                                 nome_x  capacidade_aluno  \\\n",
       "0    GRADUAÇÃO  INTRODUÇÃO ÀS TÉCNICAS DE PROGRAMAÇÃO                40   \n",
       "1    GRADUAÇÃO  INTRODUÇÃO ÀS TÉCNICAS DE PROGRAMAÇÃO                40   \n",
       "2    GRADUAÇÃO  INTRODUÇÃO ÀS TÉCNICAS DE PROGRAMAÇÃO                40   \n",
       "3    GRADUAÇÃO  INTRODUÇÃO ÀS TÉCNICAS DE PROGRAMAÇÃO                40   \n",
       "4    GRADUAÇÃO  INTRODUÇÃO ÀS TÉCNICAS DE PROGRAMAÇÃO                40   \n",
       "\n",
       "                 descricao_horario  \n",
       "0  24T34 (24/07/2017 - 16/12/2017)  \n",
       "1  24T34 (24/07/2017 - 16/12/2017)  \n",
       "2  24T34 (24/07/2017 - 16/12/2017)  \n",
       "3  24T34 (24/07/2017 - 16/12/2017)  \n",
       "4  24T34 (24/07/2017 - 16/12/2017)  "
      ]
     },
     "execution_count": 238,
     "metadata": {},
     "output_type": "execute_result"
    }
   ],
   "source": [
    "# filtrar apenas as turmas do IMD\n",
    "notas_imd = notas[notas.id_turma.isin(turmas_imd_nomesprof.id_turma)]\n",
    "\n",
    "# merge entre os dataframes notas_imd e turmas_imd_nomesprof utilizando como referencia id_turma\n",
    "notas_imd_merge = pd.merge(notas_imd, turmas_imd_nomesprof, on='id_turma')\n",
    "notas_imd_merge.head()"
   ]
  },
  {
   "cell_type": "code",
   "execution_count": 239,
   "metadata": {},
   "outputs": [
    {
     "data": {
      "text/plain": [
       "array(['INTRODUÇÃO ÀS TÉCNICAS DE PROGRAMAÇÃO',\n",
       "       'PRÁTICAS DE TÉCNICAS DE PROGRAMAÇÃO', 'DESIGN DE SOFTWARE II',\n",
       "       'INTRODUÇÃO À GOVERNANÇA E GESTÃO DE TI', 'ACESSIBILIDADE DIGITAL',\n",
       "       'EMPREENDEDORISMO',\n",
       "       'PROCESSO DE DESENVOLVIMENTO DE SOFTWARE EDUCACIONAL',\n",
       "       'TÓPICOS ESPECIAIS I', 'INTRODUÇÃO AO TESTE DE SOFTWARE',\n",
       "       'PROGRAMAÇÃO CONCORRENTE E DISTRIBUÍDA',\n",
       "       'RELAÇÕES ENTRE COMUNICAÇÃO, MÍDIA E EDUCAÇÃO',\n",
       "       'CÁLCULO DIFERENCIAL E INTEGRAL I', 'SISTEMAS OPERACIONAIS',\n",
       "       'REDES DE COMPUTADORES', 'VETORES E GEOMETRIA ANALÍTICA',\n",
       "       'JOGOS DIGITAIS COMO FERRAMENTA PEDAGÓGICA',\n",
       "       'DESENVOLVIMENTO DE SISTEMAS WEB I',\n",
       "       'PROTOCOLO E SERVIÇOS DE INTERNET',\n",
       "       'PROJETOS BASEADOS EM MICROCONTROLADORES',\n",
       "       'PRÁTICAS DE LEITURA E ESCRITA EM PORTUGUÊS II',\n",
       "       'TÓPICOS ESPECIAIS EM INFORMÁTICA EDUCACIONAL B\"',\n",
       "       'TÓPICOS ESPECIAIS EM INFORMÁTICA EDUCACIONAL C\"',\n",
       "       'TÓPICOS ESPECIAIS EM INFORMÁTICA EDUCACIONAL D\"',\n",
       "       'TÓPICOS ESPECIAIS EM REDES DE COMPUTADORES C\"',\n",
       "       'COMPUTAÇÃO DE ALTO-DESEMPENHO PARA BIG DATA',\n",
       "       'TÉCNICAS DE VISUALIZAÇÃO DE BIG DATA',\n",
       "       'SERVIÇOS DE REDE E TRANSPORTE', 'SEGURANÇA DE REDES',\n",
       "       'APRENDIZAGEM BASEADA EM PROJETOS', 'TECNOLOGIAS EDUCACIONAIS',\n",
       "       'INOVAÇÃO TECNOLÓGICA: PROCESSOS E AVALIAÇÃO DE IMPACTO',\n",
       "       'ESTUDOS DA ESTRUTURA DO PODER JUDICIÁRIO E SUAS TECNOLOGIAS',\n",
       "       'BANCO DE DADOS', 'BUSINESS INTELLIGENCE E MINERAÇÃO DE DADOS',\n",
       "       'GESTÃO DE PROJETOS', 'GOVERNANÇA DE TI',\n",
       "       'APRENDIZADO BASEADO EM PROJETO 1',\n",
       "       'FERRAMENTAS PARA ANÁLISE DE SEQUÊNCIAS',\n",
       "       'TECNOLOGIAS EM LARGA ESCALA I',\n",
       "       'MECÂNICAS E BALANCEAMENTO DE JOGOS',\n",
       "       'TECNOLOGIA DA INFORMAÇÃO NA SAÚDE',\n",
       "       'FUNDAMENTOS MATEMÁTICOS DA COMPUTAÇÃO I',\n",
       "       'ESTRUTURA DE DADOS BÁSICAS I', 'LINGUAGEM DE PROGRAMAÇÃO I',\n",
       "       'FUNDAMENTOS MATEMÁTICOS DA COMPUTAÇÃO II',\n",
       "       'ESTRUTURAS DE DADOS BÁSICAS II', 'LINGUAGEM DE PROGRAMAÇÃO II',\n",
       "       'PRÁTICAS DE LEITURA E ESCRITA EM PORTUGUÊS I',\n",
       "       'TECNOLOGIA DA INFORMAÇÃO E SOCIEDADE',\n",
       "       'RESOLUÇÃO DE PROBLEMAS MATEMÁTICOS PARA TI', 'PROBABILIDADE'],\n",
       "      dtype=object)"
      ]
     },
     "execution_count": 239,
     "metadata": {},
     "output_type": "execute_result"
    }
   ],
   "source": [
    "# todas as disciplinas em 2017.2\n",
    "notas_imd_merge.nome_x.unique()"
   ]
  },
  {
   "cell_type": "code",
   "execution_count": 268,
   "metadata": {},
   "outputs": [
    {
     "data": {
      "text/plain": [
       "APROVADO                            13\n",
       "CANCELADO                            5\n",
       "REPROVADO                            3\n",
       "APROVADO POR NOTA                    3\n",
       "TRANCADO                             2\n",
       "REPROVADO POR MÉDIA E POR FALTAS     1\n",
       "Name: descricao, dtype: int64"
      ]
     },
     "execution_count": 268,
     "metadata": {},
     "output_type": "execute_result"
    }
   ],
   "source": [
    "alunos_probabilidade = notas_imd_merge[notas_imd_merge.nome_x == 'PROBABILIDADE']\n",
    "alunos_probabilidade[~alunos_probabilidade.discente.duplicated()].descricao.value_counts()"
   ]
  },
  {
   "cell_type": "markdown",
   "metadata": {},
   "source": [
    "# Estudo sobre a diferença de gêneros\n",
    "\n",
    "- No anaconda-navigator instalar o R-Studio (versão antiga 1.0.153\n",
    "- No R-Studio instalar a API [GenderBR](http://fmeireles.com/blog/rstats/genderbr-predizer-sexo)\n",
    ">```R\n",
    "install.packages(\"genderBR\")\n",
    "```"
   ]
  },
  {
   "cell_type": "code",
   "execution_count": 1,
   "metadata": {},
   "outputs": [
    {
     "name": "stdout",
     "output_type": "stream",
     "text": [
      "Solving environment: done\n",
      "\n",
      "\n",
      "==> WARNING: A newer version of conda exists. <==\n",
      "  current version: 4.4.10\n",
      "  latest version: 4.5.2\n",
      "\n",
      "Please update conda by running\n",
      "\n",
      "    $ conda update -n base conda\n",
      "\n",
      "\n",
      "\n",
      "## Package Plan ##\n",
      "\n",
      "  environment location: /Users/ivanovitch/anaconda3\n",
      "\n",
      "  added / updated specs: \n",
      "    - rpy2\n",
      "\n",
      "\n",
      "The following packages will be downloaded:\n",
      "\n",
      "    package                    |            build\n",
      "    ---------------------------|-----------------\n",
      "    r-pillar-1.0.1             |   r343h889e2dd_0          91 KB  r\n",
      "    r-bit-1.1_12               |   r343h7f474d2_0         228 KB  r\n",
      "    r-digest-0.6.13            |   r343h7f474d2_0         125 KB  r\n",
      "    r-bit64-0.9_7              |   r343h7f474d2_0         472 KB  r\n",
      "    r-rsqlite-2.0              |   r343he124285_0         1.0 MB  r\n",
      "    fribidi-1.0.2              |       h1de35cc_0          62 KB\n",
      "    r-assertthat-0.2.0         |   r343h889e2dd_0          47 KB  r\n",
      "    pango-1.42.0               |       h0f8274a_0         521 KB\n",
      "    r-dbi-0.7                  |   r343h889e2dd_0         734 KB  r\n",
      "    r-magrittr-1.5             |   r343h889e2dd_4         165 KB  r\n",
      "    r-pkgconfig-2.0.1          |   r343h889e2dd_0          21 KB  r\n",
      "    r-bindr-0.1                |   r343h889e2dd_0          18 KB  r\n",
      "    r-r6-2.2.2                 |   r343h889e2dd_0         256 KB  r\n",
      "    r-dbplyr-1.1.0             |   r343h889e2dd_0         298 KB  r\n",
      "    r-tibble-1.4.1             |   r343h7f474d2_0         149 KB  r\n",
      "    certifi-2018.1.18          |           py36_0         143 KB\n",
      "    r-rlang-0.1.6              |   r343h7f474d2_0         435 KB  r\n",
      "    r-dplyr-0.7.4              |   r343he124285_0         1.4 MB  r\n",
      "    r-plogr-0.1_1              |   r343h889e2dd_0          18 KB  r\n",
      "    r-rcpp-0.12.14             |   r343he124285_0         3.3 MB  r\n",
      "    rpy2-2.9.1                 |py36r343hdec3cde_0         263 KB  r\n",
      "    r-purrr-0.2.4              |   r343h7f474d2_0         225 KB  r\n",
      "    r-base-3.4.3               |       h9b62496_0        22.6 MB  r\n",
      "    r-blob-1.1.0               |   r343h889e2dd_0          18 KB  r\n",
      "    r-bindrcpp-0.2             |   r343he124285_0          72 KB  r\n",
      "    r-memoise-1.1.0            |   r343h889e2dd_0          33 KB  r\n",
      "    r-utf8-1.1.2               |   r343h7f474d2_0         132 KB  r\n",
      "    harfbuzz-1.7.6             |       h08e020e_0         707 KB\n",
      "    _r-mutex-1.0.0             |      anacondar_1           2 KB  r\n",
      "    r-crayon-1.3.4             |   r343h889e2dd_0         708 KB  r\n",
      "    r-cli-1.0.0                |   r343h889e2dd_0         299 KB  r\n",
      "    cairo-1.14.12              |       hab642c4_1         1.2 MB\n",
      "    r-glue-1.2.0               |   r343h7f474d2_0          61 KB  r\n",
      "    r-bh-1.65.0_1              |   r343h889e2dd_0         9.4 MB  r\n",
      "    ------------------------------------------------------------\n",
      "                                           Total:        45.1 MB\n",
      "\n",
      "The following NEW packages will be INSTALLED:\n",
      "\n",
      "    _r-mutex:        1.0.0-anacondar_1        r          \n",
      "    bwidget:         1.9.11-0                            \n",
      "    cairo:           1.14.12-hab642c4_1                  \n",
      "    cctools:         895-h7512d6f_0                      \n",
      "    clang:           4.0.1-h662ec87_0                    \n",
      "    clang_osx-64:    4.0.1-h1ce6c1d_10                   \n",
      "    clangxx:         4.0.1-hc9b4283_0                    \n",
      "    clangxx_osx-64:  4.0.1-h22b1bf0_10                   \n",
      "    compiler-rt:     4.0.1-h5487866_0                    \n",
      "    fontconfig:      2.12.6-h9850fc5_0                   \n",
      "    fribidi:         1.0.2-h1de35cc_0                    \n",
      "    gfortran_osx-64: 4.8.5-h22b1bf0_3                    \n",
      "    graphite2:       1.3.11-h337f25e_1                   \n",
      "    gsl:             2.4-h3efe00b_3                      \n",
      "    harfbuzz:        1.7.6-h08e020e_0                    \n",
      "    krb5:            1.14.2-h9a779f2_6                   \n",
      "    ld64:            274.2-h7c2db76_0                    \n",
      "    llvm:            4.0.1-hc748206_0                    \n",
      "    llvm-lto-tapi:   4.0.1-h6701bc3_0                    \n",
      "    llvm-openmp:     4.0.1-hda82c8b_0                    \n",
      "    pango:           1.42.0-h0f8274a_0                   \n",
      "    pixman:          0.34.0-hca0a616_3                   \n",
      "    r-assertthat:    0.2.0-r343h889e2dd_0     r          \n",
      "    r-base:          3.4.3-h9b62496_0         r          \n",
      "    r-bh:            1.65.0_1-r343h889e2dd_0  r          \n",
      "    r-bindr:         0.1-r343h889e2dd_0       r          \n",
      "    r-bindrcpp:      0.2-r343he124285_0       r          \n",
      "    r-bit:           1.1_12-r343h7f474d2_0    r          \n",
      "    r-bit64:         0.9_7-r343h7f474d2_0     r          \n",
      "    r-blob:          1.1.0-r343h889e2dd_0     r          \n",
      "    r-cli:           1.0.0-r343h889e2dd_0     r          \n",
      "    r-crayon:        1.3.4-r343h889e2dd_0     r          \n",
      "    r-dbi:           0.7-r343h889e2dd_0       r          \n",
      "    r-dbplyr:        1.1.0-r343h889e2dd_0     r          \n",
      "    r-digest:        0.6.13-r343h7f474d2_0    r          \n",
      "    r-dplyr:         0.7.4-r343he124285_0     r          \n",
      "    r-glue:          1.2.0-r343h7f474d2_0     r          \n",
      "    r-magrittr:      1.5-r343h889e2dd_4       r          \n",
      "    r-memoise:       1.1.0-r343h889e2dd_0     r          \n",
      "    r-pillar:        1.0.1-r343h889e2dd_0     r          \n",
      "    r-pkgconfig:     2.0.1-r343h889e2dd_0     r          \n",
      "    r-plogr:         0.1_1-r343h889e2dd_0     r          \n",
      "    r-purrr:         0.2.4-r343h7f474d2_0     r          \n",
      "    r-r6:            2.2.2-r343h889e2dd_0     r          \n",
      "    r-rcpp:          0.12.14-r343he124285_0   r          \n",
      "    r-rlang:         0.1.6-r343h7f474d2_0     r          \n",
      "    r-rsqlite:       2.0-r343he124285_0       r          \n",
      "    r-tibble:        1.4.1-r343h7f474d2_0     r          \n",
      "    r-utf8:          1.1.2-r343h7f474d2_0     r          \n",
      "    rpy2:            2.9.1-py36r343hdec3cde_0 r          \n",
      "    tktable:         2.10-h1de35cc_0                     \n",
      "\n",
      "The following packages will be UPDATED:\n",
      "\n",
      "    certifi:         2018.1.18-py36_0         conda-forge --> 2018.1.18-py36_0\n",
      "\n",
      "\n",
      "Downloading and Extracting Packages\n",
      "r-pillar 1.0.1: ######################################################## | 100% \n",
      "r-bit 1.1_12: ########################################################## | 100% \n",
      "r-digest 0.6.13: ####################################################### | 100% \n",
      "r-bit64 0.9_7: ######################################################### | 100% \n",
      "r-rsqlite 2.0: ######################################################### | 100% \n",
      "fribidi 1.0.2: ######################################################### | 100% \n",
      "r-assertthat 0.2.0: #################################################### | 100% \n",
      "pango 1.42.0: ########################################################## | 100% \n",
      "r-dbi 0.7: ############################################################# | 100% \n",
      "r-magrittr 1.5: ######################################################## | 100% \n",
      "r-pkgconfig 2.0.1: ##################################################### | 100% \n",
      "r-bindr 0.1: ########################################################### | 100% \n",
      "r-r6 2.2.2: ############################################################ | 100% \n",
      "r-dbplyr 1.1.0: ######################################################## | 100% \n",
      "r-tibble 1.4.1: ######################################################## | 100% \n",
      "certifi 2018.1.18: ##################################################### | 100% \n",
      "r-rlang 0.1.6: ######################################################### | 100% \n",
      "r-dplyr 0.7.4: ######################################################### | 100% \n",
      "r-plogr 0.1_1: ######################################################### | 100% \n",
      "r-rcpp 0.12.14: ######################################################## | 100% \n",
      "rpy2 2.9.1: ############################################################ | 100% \n",
      "r-purrr 0.2.4: ######################################################### | 100% \n",
      "r-base 3.4.3: ########################################################## | 100% \n",
      "r-blob 1.1.0: ########################################################## | 100% \n",
      "r-bindrcpp 0.2: ######################################################## | 100% \n",
      "r-memoise 1.1.0: ####################################################### | 100% \n",
      "r-utf8 1.1.2: ########################################################## | 100% \n",
      "harfbuzz 1.7.6: ######################################################## | 100% \n",
      "_r-mutex 1.0.0: ######################################################## | 100% \n",
      "r-crayon 1.3.4: ######################################################## | 100% \n",
      "r-cli 1.0.0: ########################################################### | 100% \n",
      "cairo 1.14.12: ######################################################### | 100% \n",
      "r-glue 1.2.0: ########################################################## | 100% \n",
      "r-bh 1.65.0_1: ######################################################### | 100% \n",
      "Preparing transaction: done\n",
      "Verifying transaction: done\n",
      "Executing transaction: done\n"
     ]
    }
   ],
   "source": [
    "# É possível executar comandos da linguagem R através da linguagem Python com o pacote rpy2\n",
    "!conda install -c r rpy2 --y"
   ]
  },
  {
   "cell_type": "code",
   "execution_count": 1,
   "metadata": {
    "collapsed": true
   },
   "outputs": [],
   "source": [
    "# Carregar uma interface para objetos na linguagem R\n",
    "import rpy2.robjects as robjects\n",
    "%load_ext rpy2.ipython"
   ]
  },
  {
   "cell_type": "code",
   "execution_count": 2,
   "metadata": {
    "collapsed": true
   },
   "outputs": [],
   "source": [
    "%%R \n",
    "# Carregar a biblioteca genderBR\n",
    "suppressMessages(library(genderBR))"
   ]
  },
  {
   "cell_type": "markdown",
   "metadata": {},
   "source": [
    "## Carregar dados dos alunos"
   ]
  },
  {
   "cell_type": "code",
   "execution_count": 120,
   "metadata": {
    "collapsed": true
   },
   "outputs": [],
   "source": [
    "alunos_ingressantes_2016_url = \"http://bit.do/alunos_ufrn2016\"\n",
    "alunos = pd.read_csv(alunos_ingressantes_2016_url, sep=\";\")\n",
    "\n",
    "alunos_bti = alunos[(alunos.nome_unidade == 'INSTITUTO METROPOLE DIGITAL') & \n",
    "                    (alunos.nivel_ensino == \"GRADUAÇÃO\")][[\"matricula\", \"nome_discente\", \n",
    "                                                           \"ano_ingresso\", \"periodo_ingresso\"]]\n",
    "alunos_bti.reset_index(drop=True,inplace=True)"
   ]
  },
  {
   "cell_type": "code",
   "execution_count": 121,
   "metadata": {
    "collapsed": true
   },
   "outputs": [],
   "source": [
    "generos = []\n",
    "for nome in alunos_bti.nome_discente:\n",
    "    primeiro_nome = nome.split()[0]\n",
    "    genero = robjects.r.get_gender(primeiro_nome)\n",
    "    genero = genero.r_repr()\n",
    "    genero = genero.strip('\\\"')\n",
    "    if genero.startswith('NA'):\n",
    "        genero = None\n",
    "    generos.append(genero)\n",
    "    \n",
    "alunos_bti[\"generos\"] = generos"
   ]
  },
  {
   "cell_type": "code",
   "execution_count": 122,
   "metadata": {},
   "outputs": [
    {
     "data": {
      "text/html": [
       "<div>\n",
       "<style scoped>\n",
       "    .dataframe tbody tr th:only-of-type {\n",
       "        vertical-align: middle;\n",
       "    }\n",
       "\n",
       "    .dataframe tbody tr th {\n",
       "        vertical-align: top;\n",
       "    }\n",
       "\n",
       "    .dataframe thead th {\n",
       "        text-align: right;\n",
       "    }\n",
       "</style>\n",
       "<table border=\"1\" class=\"dataframe\">\n",
       "  <thead>\n",
       "    <tr style=\"text-align: right;\">\n",
       "      <th></th>\n",
       "      <th>matricula</th>\n",
       "      <th>nome_discente</th>\n",
       "      <th>ano_ingresso</th>\n",
       "      <th>periodo_ingresso</th>\n",
       "      <th>generos</th>\n",
       "    </tr>\n",
       "  </thead>\n",
       "  <tbody>\n",
       "    <tr>\n",
       "      <th>0</th>\n",
       "      <td>20160143986</td>\n",
       "      <td>ADDAN FELIPE NERI ANDRADE</td>\n",
       "      <td>2016</td>\n",
       "      <td>1.0</td>\n",
       "      <td>Male</td>\n",
       "    </tr>\n",
       "    <tr>\n",
       "      <th>1</th>\n",
       "      <td>2016092080</td>\n",
       "      <td>ADRIANA VIRGINIA MACEDO DE AZEVEDO</td>\n",
       "      <td>2016</td>\n",
       "      <td>1.0</td>\n",
       "      <td>Female</td>\n",
       "    </tr>\n",
       "    <tr>\n",
       "      <th>2</th>\n",
       "      <td>2016041269</td>\n",
       "      <td>AILSON FORTE DOS SANTOS</td>\n",
       "      <td>2016</td>\n",
       "      <td>1.0</td>\n",
       "      <td>Male</td>\n",
       "    </tr>\n",
       "    <tr>\n",
       "      <th>3</th>\n",
       "      <td>2016044206</td>\n",
       "      <td>AILTON GABRIEL FIGUEIRA DANTAS RAMOS DA SILVA</td>\n",
       "      <td>2016</td>\n",
       "      <td>1.0</td>\n",
       "      <td>Male</td>\n",
       "    </tr>\n",
       "    <tr>\n",
       "      <th>4</th>\n",
       "      <td>2016039547</td>\n",
       "      <td>AIRTON CORREIA DE OLIVEIRA NETO</td>\n",
       "      <td>2016</td>\n",
       "      <td>1.0</td>\n",
       "      <td>Male</td>\n",
       "    </tr>\n",
       "  </tbody>\n",
       "</table>\n",
       "</div>"
      ],
      "text/plain": [
       "     matricula                                  nome_discente  ano_ingresso  \\\n",
       "0  20160143986                      ADDAN FELIPE NERI ANDRADE          2016   \n",
       "1   2016092080             ADRIANA VIRGINIA MACEDO DE AZEVEDO          2016   \n",
       "2   2016041269                        AILSON FORTE DOS SANTOS          2016   \n",
       "3   2016044206  AILTON GABRIEL FIGUEIRA DANTAS RAMOS DA SILVA          2016   \n",
       "4   2016039547                AIRTON CORREIA DE OLIVEIRA NETO          2016   \n",
       "\n",
       "   periodo_ingresso generos  \n",
       "0               1.0    Male  \n",
       "1               1.0  Female  \n",
       "2               1.0    Male  \n",
       "3               1.0    Male  \n",
       "4               1.0    Male  "
      ]
     },
     "execution_count": 122,
     "metadata": {},
     "output_type": "execute_result"
    }
   ],
   "source": [
    "alunos_bti.head()"
   ]
  },
  {
   "cell_type": "code",
   "execution_count": 123,
   "metadata": {},
   "outputs": [
    {
     "data": {
      "text/plain": [
       "Male      288\n",
       "Female     31\n",
       "Name: generos, dtype: int64"
      ]
     },
     "execution_count": 123,
     "metadata": {},
     "output_type": "execute_result"
    }
   ],
   "source": [
    "alunos_bti.generos.value_counts()"
   ]
  }
 ],
 "metadata": {
  "kernelspec": {
   "display_name": "Python 3",
   "language": "python",
   "name": "python3"
  },
  "language_info": {
   "codemirror_mode": {
    "name": "ipython",
    "version": 3
   },
   "file_extension": ".py",
   "mimetype": "text/x-python",
   "name": "python",
   "nbconvert_exporter": "python",
   "pygments_lexer": "ipython3",
   "version": "3.6.4"
  }
 },
 "nbformat": 4,
 "nbformat_minor": 2
}
